{
  "nbformat": 4,
  "nbformat_minor": 0,
  "metadata": {
    "colab": {
      "name": "thesis.ipynb",
      "provenance": [],
      "machine_shape": "hm"
    },
    "kernelspec": {
      "name": "python3",
      "display_name": "Python 3"
    },
    "language_info": {
      "name": "python"
    },
    "accelerator": "TPU"
  },
  "cells": [
    {
      "cell_type": "markdown",
      "source": [
        "# Analysing Persuasion Strategies in Social Media -\n",
        "## Evidence type dentification using DistilBERT\n",
        "Author: Robin Snoek\\\n",
        "Written using tutorial by curiousily: https://curiousily.com/posts/sentiment-analysis-with-bert-and-hugging-face-using-pytorch-and-python/"
      ],
      "metadata": {
        "id": "-ZEcqC-f7_h3"
      }
    },
    {
      "cell_type": "code",
      "source": [
        "%%capture\n",
        "pip install transformers"
      ],
      "metadata": {
        "id": "QMApq55iBQ6F"
      },
      "execution_count": 1,
      "outputs": []
    },
    {
      "cell_type": "code",
      "execution_count": 2,
      "metadata": {
        "id": "-gHdw6NZ4oxF"
      },
      "outputs": [],
      "source": [
        "import transformers\n",
        "from transformers import AutoTokenizer, AutoModel, AdamW, get_linear_schedule_with_warmup\n",
        "import torch\n",
        "\n",
        "import numpy as np\n",
        "import pandas as pd\n",
        "import seaborn as sns\n",
        "from pylab import rcParams\n",
        "import matplotlib.pyplot as plt\n",
        "from matplotlib import rc\n",
        "from sklearn.model_selection import train_test_split\n",
        "from sklearn.metrics import confusion_matrix, classification_report\n",
        "from sklearn import preprocessing\n",
        "from sklearn.dummy import DummyClassifier\n",
        "from collections import defaultdict\n",
        "from textwrap import wrap\n",
        "\n",
        "from torch import nn, optim\n",
        "from torch.utils.data import Dataset, DataLoader\n",
        "\n",
        "RANDOM_SEED = 42\n",
        "np.random.seed(RANDOM_SEED)\n",
        "torch.manual_seed(RANDOM_SEED)\n",
        "device = torch.device(\"cuda:0\" if torch.cuda.is_available() else \"cpu\")"
      ]
    },
    {
      "cell_type": "code",
      "source": [
        "# Data overview\n",
        "df = pd.read_csv(\"final_dataset.csv\")\n",
        "# df.info()"
      ],
      "metadata": {
        "id": "HE1OFPTXBgjU"
      },
      "execution_count": 3,
      "outputs": []
    },
    {
      "cell_type": "code",
      "source": [
        "# Encode labels as numeric types for converting labels to into tensors\n",
        "le = preprocessing.LabelEncoder()\n",
        "df['targets'] = le.fit_transform(df['evidence_no_continue'])\n",
        "# df.astype({'targets': 'long'}).dtypes\n",
        "df.head()"
      ],
      "metadata": {
        "id": "XIf615d8VLSv",
        "colab": {
          "base_uri": "https://localhost:8080/",
          "height": 206
        },
        "outputId": "8818d5f4-7660-4586-ba96-0b1793320cab"
      },
      "execution_count": 4,
      "outputs": [
        {
          "output_type": "execute_result",
          "data": {
            "text/plain": [
              "                                            sentence    evidence  thread_id  \\\n",
              "0  I don't know anyone who buys Apple products to...    Anecdote  t3_71l9yj   \n",
              "1  At work I use a Dell desktop that probably cos...    Anecdote  t3_71l9yj   \n",
              "2  At home I have a $1,500 MacBook Air with a sol...    Anecdote  t3_71l9yj   \n",
              "3  My MacBook is *always* faster and more reliabl...    Continue  t3_71l9yj   \n",
              "4  I think both product lines probably have their...  Assumption  t3_71l9yj   \n",
              "\n",
              "  comment_id evidence_no_continue  targets  \n",
              "0    dnbz2sl             Anecdote        0  \n",
              "1    dnbz2sl             Anecdote        0  \n",
              "2    dnbz2sl             Anecdote        0  \n",
              "3    dnbz2sl             Anecdote        0  \n",
              "4    dnbz2sl           Assumption        1  "
            ],
            "text/html": [
              "\n",
              "  <div id=\"df-eb86bd49-c8b2-46e2-9147-6073945f75ca\">\n",
              "    <div class=\"colab-df-container\">\n",
              "      <div>\n",
              "<style scoped>\n",
              "    .dataframe tbody tr th:only-of-type {\n",
              "        vertical-align: middle;\n",
              "    }\n",
              "\n",
              "    .dataframe tbody tr th {\n",
              "        vertical-align: top;\n",
              "    }\n",
              "\n",
              "    .dataframe thead th {\n",
              "        text-align: right;\n",
              "    }\n",
              "</style>\n",
              "<table border=\"1\" class=\"dataframe\">\n",
              "  <thead>\n",
              "    <tr style=\"text-align: right;\">\n",
              "      <th></th>\n",
              "      <th>sentence</th>\n",
              "      <th>evidence</th>\n",
              "      <th>thread_id</th>\n",
              "      <th>comment_id</th>\n",
              "      <th>evidence_no_continue</th>\n",
              "      <th>targets</th>\n",
              "    </tr>\n",
              "  </thead>\n",
              "  <tbody>\n",
              "    <tr>\n",
              "      <th>0</th>\n",
              "      <td>I don't know anyone who buys Apple products to...</td>\n",
              "      <td>Anecdote</td>\n",
              "      <td>t3_71l9yj</td>\n",
              "      <td>dnbz2sl</td>\n",
              "      <td>Anecdote</td>\n",
              "      <td>0</td>\n",
              "    </tr>\n",
              "    <tr>\n",
              "      <th>1</th>\n",
              "      <td>At work I use a Dell desktop that probably cos...</td>\n",
              "      <td>Anecdote</td>\n",
              "      <td>t3_71l9yj</td>\n",
              "      <td>dnbz2sl</td>\n",
              "      <td>Anecdote</td>\n",
              "      <td>0</td>\n",
              "    </tr>\n",
              "    <tr>\n",
              "      <th>2</th>\n",
              "      <td>At home I have a $1,500 MacBook Air with a sol...</td>\n",
              "      <td>Anecdote</td>\n",
              "      <td>t3_71l9yj</td>\n",
              "      <td>dnbz2sl</td>\n",
              "      <td>Anecdote</td>\n",
              "      <td>0</td>\n",
              "    </tr>\n",
              "    <tr>\n",
              "      <th>3</th>\n",
              "      <td>My MacBook is *always* faster and more reliabl...</td>\n",
              "      <td>Continue</td>\n",
              "      <td>t3_71l9yj</td>\n",
              "      <td>dnbz2sl</td>\n",
              "      <td>Anecdote</td>\n",
              "      <td>0</td>\n",
              "    </tr>\n",
              "    <tr>\n",
              "      <th>4</th>\n",
              "      <td>I think both product lines probably have their...</td>\n",
              "      <td>Assumption</td>\n",
              "      <td>t3_71l9yj</td>\n",
              "      <td>dnbz2sl</td>\n",
              "      <td>Assumption</td>\n",
              "      <td>1</td>\n",
              "    </tr>\n",
              "  </tbody>\n",
              "</table>\n",
              "</div>\n",
              "      <button class=\"colab-df-convert\" onclick=\"convertToInteractive('df-eb86bd49-c8b2-46e2-9147-6073945f75ca')\"\n",
              "              title=\"Convert this dataframe to an interactive table.\"\n",
              "              style=\"display:none;\">\n",
              "        \n",
              "  <svg xmlns=\"http://www.w3.org/2000/svg\" height=\"24px\"viewBox=\"0 0 24 24\"\n",
              "       width=\"24px\">\n",
              "    <path d=\"M0 0h24v24H0V0z\" fill=\"none\"/>\n",
              "    <path d=\"M18.56 5.44l.94 2.06.94-2.06 2.06-.94-2.06-.94-.94-2.06-.94 2.06-2.06.94zm-11 1L8.5 8.5l.94-2.06 2.06-.94-2.06-.94L8.5 2.5l-.94 2.06-2.06.94zm10 10l.94 2.06.94-2.06 2.06-.94-2.06-.94-.94-2.06-.94 2.06-2.06.94z\"/><path d=\"M17.41 7.96l-1.37-1.37c-.4-.4-.92-.59-1.43-.59-.52 0-1.04.2-1.43.59L10.3 9.45l-7.72 7.72c-.78.78-.78 2.05 0 2.83L4 21.41c.39.39.9.59 1.41.59.51 0 1.02-.2 1.41-.59l7.78-7.78 2.81-2.81c.8-.78.8-2.07 0-2.86zM5.41 20L4 18.59l7.72-7.72 1.47 1.35L5.41 20z\"/>\n",
              "  </svg>\n",
              "      </button>\n",
              "      \n",
              "  <style>\n",
              "    .colab-df-container {\n",
              "      display:flex;\n",
              "      flex-wrap:wrap;\n",
              "      gap: 12px;\n",
              "    }\n",
              "\n",
              "    .colab-df-convert {\n",
              "      background-color: #E8F0FE;\n",
              "      border: none;\n",
              "      border-radius: 50%;\n",
              "      cursor: pointer;\n",
              "      display: none;\n",
              "      fill: #1967D2;\n",
              "      height: 32px;\n",
              "      padding: 0 0 0 0;\n",
              "      width: 32px;\n",
              "    }\n",
              "\n",
              "    .colab-df-convert:hover {\n",
              "      background-color: #E2EBFA;\n",
              "      box-shadow: 0px 1px 2px rgba(60, 64, 67, 0.3), 0px 1px 3px 1px rgba(60, 64, 67, 0.15);\n",
              "      fill: #174EA6;\n",
              "    }\n",
              "\n",
              "    [theme=dark] .colab-df-convert {\n",
              "      background-color: #3B4455;\n",
              "      fill: #D2E3FC;\n",
              "    }\n",
              "\n",
              "    [theme=dark] .colab-df-convert:hover {\n",
              "      background-color: #434B5C;\n",
              "      box-shadow: 0px 1px 3px 1px rgba(0, 0, 0, 0.15);\n",
              "      filter: drop-shadow(0px 1px 2px rgba(0, 0, 0, 0.3));\n",
              "      fill: #FFFFFF;\n",
              "    }\n",
              "  </style>\n",
              "\n",
              "      <script>\n",
              "        const buttonEl =\n",
              "          document.querySelector('#df-eb86bd49-c8b2-46e2-9147-6073945f75ca button.colab-df-convert');\n",
              "        buttonEl.style.display =\n",
              "          google.colab.kernel.accessAllowed ? 'block' : 'none';\n",
              "\n",
              "        async function convertToInteractive(key) {\n",
              "          const element = document.querySelector('#df-eb86bd49-c8b2-46e2-9147-6073945f75ca');\n",
              "          const dataTable =\n",
              "            await google.colab.kernel.invokeFunction('convertToInteractive',\n",
              "                                                     [key], {});\n",
              "          if (!dataTable) return;\n",
              "\n",
              "          const docLinkHtml = 'Like what you see? Visit the ' +\n",
              "            '<a target=\"_blank\" href=https://colab.research.google.com/notebooks/data_table.ipynb>data table notebook</a>'\n",
              "            + ' to learn more about interactive tables.';\n",
              "          element.innerHTML = '';\n",
              "          dataTable['output_type'] = 'display_data';\n",
              "          await google.colab.output.renderOutput(dataTable, element);\n",
              "          const docLink = document.createElement('div');\n",
              "          docLink.innerHTML = docLinkHtml;\n",
              "          element.appendChild(docLink);\n",
              "        }\n",
              "      </script>\n",
              "    </div>\n",
              "  </div>\n",
              "  "
            ]
          },
          "metadata": {},
          "execution_count": 4
        }
      ]
    },
    {
      "cell_type": "code",
      "source": [
        "# Label distribution\n",
        "df.evidence_no_continue.value_counts()"
      ],
      "metadata": {
        "id": "6h59N2H-_Jyz",
        "colab": {
          "base_uri": "https://localhost:8080/"
        },
        "outputId": "18a8859b-4eb5-4f38-8fcf-299e58bf17e8"
      },
      "execution_count": 5,
      "outputs": [
        {
          "output_type": "execute_result",
          "data": {
            "text/plain": [
              "Assumption          3992\n",
              "None                1557\n",
              "Anecdote             727\n",
              "Definition           143\n",
              "Statistics/Study     100\n",
              "Other                 62\n",
              "Testimony             59\n",
              "Name: evidence_no_continue, dtype: int64"
            ]
          },
          "metadata": {},
          "execution_count": 5
        }
      ]
    },
    {
      "cell_type": "code",
      "source": [
        "%%capture\n",
        "tokenizer = AutoTokenizer.from_pretrained(\"distilbert-base-uncased\")\n",
        "# model = AutoModelForSequenceClassification.from_pretrained(\"distilbert-base-uncased\")"
      ],
      "metadata": {
        "id": "rKmc4RAWqTyb"
      },
      "execution_count": 6,
      "outputs": []
    },
    {
      "cell_type": "markdown",
      "source": [
        "# Sequence Length. \n",
        "\n",
        "Most of the sentences contain less than 75 tokens. But to be safe we choose a maximum length of 100."
      ],
      "metadata": {
        "id": "1aF5jWNyteTV"
      }
    },
    {
      "cell_type": "code",
      "source": [
        "# token_lens = []\n",
        "\n",
        "# for txt in df.sentence:\n",
        "#   tokens = tokenizer.encode(txt, max_length=512)\n",
        "#   token_lens.append(len(tokens))\n",
        "\n",
        "# sns.set(rc={'figure.figsize':(11.7,8.27)})\n",
        "# sns.distplot(token_lens)\n",
        "# plt.xlim([0, 256]);\n",
        "# plt.xlabel('Token count');"
      ],
      "metadata": {
        "id": "2v1uwr8Oshtv"
      },
      "execution_count": null,
      "outputs": []
    },
    {
      "cell_type": "code",
      "source": [
        "MAX_LEN = 100"
      ],
      "metadata": {
        "id": "rrhfZne6tGf-"
      },
      "execution_count": 8,
      "outputs": []
    },
    {
      "cell_type": "markdown",
      "source": [
        "# Pytorch dataset"
      ],
      "metadata": {
        "id": "7Ulc7V8J0jZ4"
      }
    },
    {
      "cell_type": "code",
      "source": [
        "class EvidenceDataset(Dataset):\n",
        "\n",
        "  def __init__(self, sentences, labels, tokenizer, max_len):\n",
        "    self.sentences = sentences\n",
        "    self.labels = labels\n",
        "    self.tokenizer = tokenizer\n",
        "    self.max_len = max_len\n",
        "\n",
        "  def __len__(self):\n",
        "    return len(self.sentences)\n",
        "\n",
        "  def __getitem__(self, item):\n",
        "    sentence = str(self.sentences[item])\n",
        "    labels = self.labels[item]\n",
        "\n",
        "    encoding = self.tokenizer.encode_plus(\n",
        "      sentence,\n",
        "      add_special_tokens=True,\n",
        "      max_length=self.max_len,\n",
        "      return_token_type_ids=False,\n",
        "      padding='max_length',\n",
        "      truncation=True,  # explicitly truncate examples to max length\n",
        "      return_attention_mask=True,\n",
        "      return_tensors='pt',\n",
        "    )\n",
        "\n",
        "    return {\n",
        "      'sentences': sentence,\n",
        "      'input_ids': encoding['input_ids'].flatten(),\n",
        "      'attention_mask': encoding['attention_mask'].flatten(),\n",
        "      'labels': torch.tensor(self.labels[item], dtype=torch.long)\n",
        "    }"
      ],
      "metadata": {
        "id": "SAANzTOZqUq3"
      },
      "execution_count": 9,
      "outputs": []
    },
    {
      "cell_type": "markdown",
      "source": [
        "Split data in 60% training, 20% validation and 20% test based on topic."
      ],
      "metadata": {
        "id": "qQuoWluG4gLZ"
      }
    },
    {
      "cell_type": "code",
      "source": [
        "# Random topic split\n",
        "train_ids, test_ids = train_test_split(\n",
        "  df.thread_id.unique(),\n",
        "  test_size=0.4,\n",
        "  random_state=RANDOM_SEED\n",
        ")\n",
        "\n",
        "val_ids, test_ids = train_test_split(\n",
        "  test_ids,\n",
        "  test_size=0.5,\n",
        "  random_state=RANDOM_SEED\n",
        ")\n",
        "\n",
        "df_train = df[df['thread_id'].isin(train_ids)]\n",
        "df_val = df[df['thread_id'].isin(val_ids)]\n",
        "df_test = df[df['thread_id'].isin(test_ids)]\n",
        "\n",
        "df_train.shape, df_val.shape, df_test.shape"
      ],
      "metadata": {
        "id": "qDDpqxHc4i7n",
        "colab": {
          "base_uri": "https://localhost:8080/"
        },
        "outputId": "47183c46-4342-4906-93eb-0de55897503f"
      },
      "execution_count": 10,
      "outputs": [
        {
          "output_type": "execute_result",
          "data": {
            "text/plain": [
              "((4002, 6), (1320, 6), (1318, 6))"
            ]
          },
          "metadata": {},
          "execution_count": 10
        }
      ]
    },
    {
      "cell_type": "markdown",
      "source": [
        "# Data loaders"
      ],
      "metadata": {
        "id": "8K2TVSux_8yd"
      }
    },
    {
      "cell_type": "code",
      "source": [
        "def create_data_loader(df, tokenizer, max_len, batch_size):\n",
        "  ds = EvidenceDataset(\n",
        "    sentences=df.sentence.to_numpy(),\n",
        "    labels=df.targets.to_numpy(),\n",
        "    tokenizer=tokenizer,\n",
        "    max_len=max_len\n",
        "  )\n",
        "\n",
        "  return DataLoader(\n",
        "    ds,\n",
        "    batch_size=batch_size,\n",
        "    num_workers=4\n",
        "  )"
      ],
      "metadata": {
        "id": "3LB9Shwn_-yH"
      },
      "execution_count": 11,
      "outputs": []
    },
    {
      "cell_type": "markdown",
      "source": [
        "# DistilBert classifier"
      ],
      "metadata": {
        "id": "ur_awZu0ay9j"
      }
    },
    {
      "cell_type": "code",
      "source": [
        "class EvidenceClassifier(nn.Module):\n",
        "\n",
        "  def __init__(self, n_classes):\n",
        "    super(EvidenceClassifier, self).__init__()\n",
        "    self.distilbert = AutoModel.from_pretrained(\n",
        "        \"distilbert-base-uncased\", num_labels= n_classes,\n",
        "        return_dict=False)\n",
        "    # Pooling\n",
        "    self.dense = nn.Linear(self.distilbert.config.hidden_size, self.distilbert.config.hidden_size)\n",
        "    self.activation = nn.Tanh()\n",
        "\n",
        "    self.drop = nn.Dropout()\n",
        "    self.out = nn.Linear(self.distilbert.config.hidden_size, n_classes)\n",
        "\n",
        "  def forward(self, input_ids, attention_mask):\n",
        "    output = self.distilbert(\n",
        "      input_ids=input_ids,\n",
        "      attention_mask=attention_mask,\n",
        "    )\n",
        "    # Pool output because DistilBert does not have pooled_output\n",
        "    first_token_tensor = output[0][:, 0]\n",
        "    pooled_output = self.dense(first_token_tensor)\n",
        "    pooled_output = self.activation(pooled_output)\n",
        "\n",
        "    return self.out(pooled_output)"
      ],
      "metadata": {
        "id": "atM1XATAayY5"
      },
      "execution_count": 12,
      "outputs": []
    },
    {
      "cell_type": "code",
      "source": [
        "def train_epoch(model, data_loader, loss_fn, optimizer, device, scheduler, n_examples):\n",
        "\n",
        "  model = model.train()\n",
        "  losses = []\n",
        "  correct_predictions = 0\n",
        "\n",
        "  for d in data_loader:\n",
        "    input_ids = d[\"input_ids\"].to(device)\n",
        "    attention_mask = d[\"attention_mask\"].to(device)\n",
        "    targets = d[\"labels\"].to(device)\n",
        "\n",
        "    outputs = model(\n",
        "      input_ids=input_ids,\n",
        "      attention_mask=attention_mask\n",
        "    )\n",
        "\n",
        "    _, preds = torch.max(outputs, dim=1)\n",
        "    loss = loss_fn(outputs, targets)\n",
        "\n",
        "    correct_predictions += torch.sum(preds == targets)\n",
        "    losses.append(loss.item())\n",
        "\n",
        "    loss.backward()\n",
        "    nn.utils.clip_grad_norm_(model.parameters(), max_norm=1.0)\n",
        "    optimizer.step()\n",
        "    scheduler.step()\n",
        "    optimizer.zero_grad()\n",
        "\n",
        "  return correct_predictions.double() / n_examples, np.mean(losses)"
      ],
      "metadata": {
        "id": "CU_zFqMNhaQl"
      },
      "execution_count": 13,
      "outputs": []
    },
    {
      "cell_type": "code",
      "source": [
        "def eval_model(model, data_loader, loss_fn, device, n_examples):\n",
        "  model = model.eval()\n",
        "  losses = []\n",
        "  correct_predictions = 0\n",
        "\n",
        "  with torch.no_grad():\n",
        "    for d in data_loader:\n",
        "      input_ids = d[\"input_ids\"].to(device)\n",
        "      attention_mask = d[\"attention_mask\"].to(device)\n",
        "      targets = d[\"labels\"].to(device)\n",
        "\n",
        "      outputs = model(\n",
        "        input_ids=input_ids,\n",
        "        attention_mask=attention_mask\n",
        "      )\n",
        "      _, preds = torch.max(outputs, dim=1)\n",
        "\n",
        "      loss = loss_fn(outputs, targets)\n",
        "\n",
        "      correct_predictions += torch.sum(preds == targets)\n",
        "      losses.append(loss.item())\n",
        "\n",
        "  return correct_predictions.double() / n_examples, np.mean(losses)"
      ],
      "metadata": {
        "id": "t2I6J-z3iKKq"
      },
      "execution_count": 14,
      "outputs": []
    },
    {
      "cell_type": "code",
      "source": [
        "EPOCHS = 20\n",
        "BATCH_SIZE = 16\n",
        "\n",
        "class_names = ['Anecdote', 'Assumption', 'Definition', 'None', 'Other', 'Statistics/Study', 'Testimony']\n",
        "model = EvidenceClassifier(len(class_names))\n",
        "\n",
        "train_data_loader = create_data_loader(df_train, tokenizer, MAX_LEN, BATCH_SIZE)\n",
        "val_data_loader = create_data_loader(df_val, tokenizer, MAX_LEN, BATCH_SIZE)\n",
        "test_data_loader = create_data_loader(df_test, tokenizer, MAX_LEN, BATCH_SIZE)\n",
        "\n",
        "optimizer = AdamW(model.parameters(), lr=2e-5, correct_bias=False)\n",
        "total_steps = len(train_data_loader) * EPOCHS\n",
        "\n",
        "scheduler = get_linear_schedule_with_warmup(\n",
        "  optimizer,\n",
        "  num_warmup_steps=0,\n",
        "  num_training_steps=total_steps\n",
        ")\n",
        "\n",
        "# class_weights = (1 - (df['targets'].value_counts().sort_index() / len(df))).values\n",
        "# class_weights = torch.from_numpy(class_weights).float().to(device)\n",
        "\n",
        "loss_fn = nn.CrossEntropyLoss().to(device)"
      ],
      "metadata": {
        "id": "hXbOH4CdkwaH"
      },
      "execution_count": null,
      "outputs": []
    },
    {
      "cell_type": "markdown",
      "source": [
        "# Train best model"
      ],
      "metadata": {
        "id": "2HKCJmVOqhqh"
      }
    },
    {
      "cell_type": "code",
      "source": [
        "%%time\n",
        "\n",
        "history = defaultdict(list)\n",
        "best_accuracy = 0\n",
        "\n",
        "for epoch in range(EPOCHS):\n",
        "\n",
        "  print(f'Epoch {epoch + 1}/{EPOCHS}')\n",
        "  print('-' * 10)\n",
        "\n",
        "  train_acc, train_loss = train_epoch(model, train_data_loader, loss_fn,\n",
        "                                      optimizer, device, scheduler,\n",
        "                                      len(df_train))\n",
        "\n",
        "  print(f'Train loss {train_loss} accuracy {train_acc}')\n",
        "\n",
        "  val_acc, val_loss = eval_model(model, val_data_loader, loss_fn, device,\n",
        "                                 len(df_val))\n",
        "  print(f'Val   loss {val_loss} accuracy {val_acc}')\n",
        "  print()\n",
        "\n",
        "  history['train_acc'].append(train_acc)\n",
        "  history['train_loss'].append(train_loss)\n",
        "  history['val_acc'].append(val_acc)\n",
        "  history['val_loss'].append(val_loss)\n",
        "\n",
        "  if val_acc > best_accuracy:\n",
        "    torch.save(model.state_dict(), 'best_model_state.bin')\n",
        "    best_accuracy = val_acc"
      ],
      "metadata": {
        "id": "O7a0TmIyiciC"
      },
      "execution_count": null,
      "outputs": []
    },
    {
      "cell_type": "code",
      "source": [
        "# Training vs. validation accuracy\n",
        "plt.plot(history['train_acc'], label='train accuracy')\n",
        "plt.plot(history['val_acc'], label='validation accuracy')\n",
        "\n",
        "plt.title('Training history')\n",
        "plt.ylabel('Accuracy')\n",
        "plt.xlabel('Epoch')\n",
        "plt.legend()\n",
        "plt.ylim([0, 1]);"
      ],
      "metadata": {
        "id": "7kxtHnJnrCZ1"
      },
      "execution_count": null,
      "outputs": []
    },
    {
      "cell_type": "markdown",
      "source": [
        "# Evaluate DistilBert"
      ],
      "metadata": {
        "id": "ABADtsCgqmlU"
      }
    },
    {
      "cell_type": "code",
      "source": [
        "model.load_state_dict(torch.load('best_model_state.bin'))\n",
        "model = model.to(device)"
      ],
      "metadata": {
        "id": "UZ4TGyxYk4zt"
      },
      "execution_count": null,
      "outputs": []
    },
    {
      "cell_type": "code",
      "source": [
        "test_acc, _ = eval_model(model, test_data_loader, loss_fn, device, len(df_test))"
      ],
      "metadata": {
        "id": "sj-kUOZ_rP0r"
      },
      "execution_count": null,
      "outputs": []
    },
    {
      "cell_type": "code",
      "source": [
        "def get_predictions(model, data_loader):\n",
        "  model = model.eval()\n",
        "\n",
        "  sentences = []\n",
        "  predictions = []\n",
        "  prediction_probs = []\n",
        "  real_values = []\n",
        "\n",
        "  with torch.no_grad():\n",
        "    for d in data_loader:\n",
        "      texts = d[\"sentences\"]\n",
        "      input_ids = d[\"input_ids\"].to(device)\n",
        "      attention_mask = d[\"attention_mask\"].to(device)\n",
        "      targets = d[\"labels\"].to(device)\n",
        "\n",
        "      outputs = model(\n",
        "        input_ids=input_ids,\n",
        "        attention_mask=attention_mask\n",
        "      )\n",
        "\n",
        "      _, preds = torch.max(outputs, dim=1)\n",
        "\n",
        "      sentences.extend(texts)\n",
        "      predictions.extend(preds)\n",
        "      prediction_probs.extend(outputs)\n",
        "      real_values.extend(targets)\n",
        "\n",
        "  predictions = torch.stack(predictions).cpu()\n",
        "  prediction_probs = torch.stack(prediction_probs).cpu()\n",
        "  real_values = torch.stack(real_values).cpu()\n",
        "\n",
        "  return sentences, predictions, prediction_probs, real_values"
      ],
      "metadata": {
        "id": "sTmCws4rrcU9"
      },
      "execution_count": null,
      "outputs": []
    },
    {
      "cell_type": "code",
      "source": [
        "# get predictions\n",
        "y_sentences, y_pred, y_pred_probs, y_test = get_predictions(model, test_data_loader)"
      ],
      "metadata": {
        "id": "_e69kn9_r-oG"
      },
      "execution_count": null,
      "outputs": []
    },
    {
      "cell_type": "code",
      "source": [
        "print(classification_report(y_test, y_pred, target_names=class_names))"
      ],
      "metadata": {
        "id": "-VgUI6xlsEE0"
      },
      "execution_count": null,
      "outputs": []
    },
    {
      "cell_type": "code",
      "source": [
        "def show_confusion_matrix(confusion_matrix):\n",
        "  hmap = sns.heatmap(confusion_matrix, annot=True, fmt=\"d\", cmap=\"Blues\")\n",
        "  hmap.yaxis.set_ticklabels(hmap.yaxis.get_ticklabels(), rotation=0, ha='right')\n",
        "  hmap.xaxis.set_ticklabels(hmap.xaxis.get_ticklabels(), rotation=30, ha='right')\n",
        "  plt.ylabel('True sentiment')\n",
        "  plt.xlabel('Predicted sentiment');\n",
        "\n",
        "cm = confusion_matrix(y_test, y_pred)\n",
        "df_cm = pd.DataFrame(cm, index=class_names, columns=class_names)\n",
        "show_confusion_matrix(df_cm)"
      ],
      "metadata": {
        "id": "Q0lXyh7WsKOu"
      },
      "execution_count": null,
      "outputs": []
    },
    {
      "cell_type": "code",
      "source": [
        "# pred_dict = {'sentence': y_sentences, 'label': y_test, 'prediction': y_pred} \n",
        "# pred_df = pd.DataFrame(pred_dict)\n",
        "# pred_df.to_csv('predictions.csv', sep = ';') "
      ],
      "metadata": {
        "id": "uSdvaMtOHhWE"
      },
      "execution_count": null,
      "outputs": []
    },
    {
      "cell_type": "markdown",
      "source": [
        "#Baseline"
      ],
      "metadata": {
        "id": "zb3rb_J4uBBQ"
      }
    },
    {
      "cell_type": "code",
      "source": [
        "y_sentences = df_test['sentence']\n",
        "y = df_test['evidence_no_continue']\n",
        "dummy_clf = DummyClassifier(strategy=\"most_frequent\")\n",
        "dummy_clf.fit(y_sentences, y)"
      ],
      "metadata": {
        "colab": {
          "base_uri": "https://localhost:8080/"
        },
        "id": "3wtSBZnpwSAr",
        "outputId": "1a10daa6-90e8-4912-a25e-e6d5d2157146"
      },
      "execution_count": 17,
      "outputs": [
        {
          "output_type": "execute_result",
          "data": {
            "text/plain": [
              "DummyClassifier(strategy='most_frequent')"
            ]
          },
          "metadata": {},
          "execution_count": 17
        }
      ]
    },
    {
      "cell_type": "code",
      "source": [
        "y_pred = dummy_clf.predict(y_sentences)\n",
        "dummy_clf.score(y_sentences, y)"
      ],
      "metadata": {
        "colab": {
          "base_uri": "https://localhost:8080/"
        },
        "id": "c0o-cn-2xuSl",
        "outputId": "40fa0ae1-0443-4bf5-e96e-f06e7866f805"
      },
      "execution_count": 21,
      "outputs": [
        {
          "output_type": "execute_result",
          "data": {
            "text/plain": [
              "0.5493171471927162"
            ]
          },
          "metadata": {},
          "execution_count": 21
        }
      ]
    },
    {
      "cell_type": "code",
      "source": [
        "print(classification_report(y, y_pred, target_names=class_names))"
      ],
      "metadata": {
        "colab": {
          "base_uri": "https://localhost:8080/"
        },
        "id": "Yj-FeJF_yjV-",
        "outputId": "fe478d8b-70c3-415f-ff5b-42993ef25983"
      },
      "execution_count": 22,
      "outputs": [
        {
          "output_type": "stream",
          "name": "stdout",
          "text": [
            "                  precision    recall  f1-score   support\n",
            "\n",
            "        Anecdote       0.00      0.00      0.00       139\n",
            "      Assumption       0.55      1.00      0.71       724\n",
            "      Definition       0.00      0.00      0.00        14\n",
            "            None       0.00      0.00      0.00       374\n",
            "           Other       0.00      0.00      0.00        17\n",
            "Statistics/Study       0.00      0.00      0.00        31\n",
            "       Testimony       0.00      0.00      0.00        19\n",
            "\n",
            "        accuracy                           0.55      1318\n",
            "       macro avg       0.08      0.14      0.10      1318\n",
            "    weighted avg       0.30      0.55      0.39      1318\n",
            "\n"
          ]
        },
        {
          "output_type": "stream",
          "name": "stderr",
          "text": [
            "/usr/local/lib/python3.7/dist-packages/sklearn/metrics/_classification.py:1318: UndefinedMetricWarning: Precision and F-score are ill-defined and being set to 0.0 in labels with no predicted samples. Use `zero_division` parameter to control this behavior.\n",
            "  _warn_prf(average, modifier, msg_start, len(result))\n",
            "/usr/local/lib/python3.7/dist-packages/sklearn/metrics/_classification.py:1318: UndefinedMetricWarning: Precision and F-score are ill-defined and being set to 0.0 in labels with no predicted samples. Use `zero_division` parameter to control this behavior.\n",
            "  _warn_prf(average, modifier, msg_start, len(result))\n",
            "/usr/local/lib/python3.7/dist-packages/sklearn/metrics/_classification.py:1318: UndefinedMetricWarning: Precision and F-score are ill-defined and being set to 0.0 in labels with no predicted samples. Use `zero_division` parameter to control this behavior.\n",
            "  _warn_prf(average, modifier, msg_start, len(result))\n"
          ]
        }
      ]
    }
  ]
}